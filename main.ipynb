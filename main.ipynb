{
 "cells": [
  {
   "cell_type": "code",
   "execution_count": null,
   "metadata": {},
   "outputs": [],
   "source": [
    "from ultralytics import YOLO\n",
    "import cv2\n",
    "from ultralytics.utils.plotting import Annotator\n",
    "import os\n",
    "import time\n",
    "import torch, torch.nn as nn\n",
    "from torch.nn.utils import prune\n",
    "\n",
    "print('is cuda available:', torch.cuda.is_available())\n",
    "print('cuda device count:', torch.cuda.device_count())\n",
    "print('current device:', torch.cuda.current_device())\n",
    "print('device name:', torch.cuda.get_device_name(0))"
   ]
  },
  {
   "cell_type": "code",
   "execution_count": null,
   "metadata": {},
   "outputs": [],
   "source": [
    "version = 'v3'\n",
    "# weight = os.path.join('models', version, 'pruned.pt')\n",
    "weight = os.path.join('models', version, 'best.pt')\n",
    "weight_abspath = os.path.abspath(weight)\n",
    "\n",
    "print(weight_abspath)\n",
    "\n",
    "model = YOLO(weight, task='detect')\n",
    "# metrics = model.val(data=os.path.abspath('../merge_dataset/data.yaml'), plots=True, task='detect', conf=0.35)\n",
    "# metrics = model.val(data=os.path.abspath('../old_dataset/data.yaml'), plots=True, task='detect', conf=0.35)\n",
    "# model.export(format='onnx', int8=True, dynamic=True, simplify=True)\n",
    "# model.export(format='openvino', int8=True)"
   ]
  },
  {
   "cell_type": "code",
   "execution_count": null,
   "metadata": {},
   "outputs": [],
   "source": [
    "# print(metrics.box.map)    # map50-95 standard benchmark\n",
    "# print(metrics.box.map50)  # map50\n",
    "# print(metrics.box.map75)  # map75\n",
    "# print(metrics.box.maps)"
   ]
  },
  {
   "cell_type": "code",
   "execution_count": null,
   "metadata": {},
   "outputs": [],
   "source": [
    "# def sparsity(model):\n",
    "#     # Return global model sparsity\n",
    "#     a, b = 0, 0\n",
    "#     for p in model.parameters():\n",
    "#         a += p.numel()\n",
    "#         b += (p == 0).sum()\n",
    "#     return b / a\n",
    "\n",
    "# pruning_param = 0.8\n",
    "\n",
    "# for name, m in model.model.named_modules():\n",
    "#     if isinstance(m, nn.Conv2d) or isinstance(m, torch.nn.Linear):\n",
    "#         prune.l1_unstructured(m, name='weight', amount=pruning_param)  # prune\n",
    "#         prune.remove(m, 'weight')  # make permanent\n",
    "# print(f'Model pruned to {sparsity(model.model):.3g} global sparsity')\n",
    "\n",
    "# ckpt = {\n",
    "#     'model': model.model,\n",
    "#     'train_args': {},  # save as dict\n",
    "# }\n",
    "\n",
    "# torch.save(ckpt, os.path.abspath(os.path.join('models', version, 'pruned.pt')))"
   ]
  },
  {
   "cell_type": "code",
   "execution_count": null,
   "metadata": {},
   "outputs": [],
   "source": [
    "cap = cv2.VideoCapture(0)\n",
    "\n",
    "# https://www.youtube.com/watch?v=S7dwu9xwKm4\n",
    "# cap = cv2.VideoCapture('sample.mp4')\n",
    "\n",
    "# Initialize FPS calculation\n",
    "prev_time = 0\n",
    "\n",
    "while cap.isOpened():\n",
    "    ret, frame = cap.read()\n",
    "\n",
    "    current_time = time.time()\n",
    "\n",
    "    results = model.predict(frame, device='cuda:0', conf=0.35, stream=True, vid_stride=5, stream_buffer=True)\n",
    "    # results = model.predict(frame, conf=0.35, stream=True, stream_buffer=True)\n",
    "\n",
    "    for result in results:\n",
    "\n",
    "        # https://stackoverflow.com/questions/75324341/yolov8-get-predicted-bounding-box\n",
    "        annotator = Annotator(frame)\n",
    "\n",
    "        boxes = result.boxes\n",
    "        conf_arr = boxes.conf.cpu().numpy()\n",
    "        conf = 0\n",
    "        for box in boxes:\n",
    "            b = box.xyxy[0]\n",
    "            c = box.cls\n",
    "            \n",
    "            if len(conf_arr) > 0:\n",
    "                conf = conf_arr[0]\n",
    "            annotator.box_label(b, model.names[int(c)]+\" \"+f'{conf:.2f}')\n",
    "    \n",
    "    frame = annotator.result() \n",
    "\n",
    "    # Calculate FPS\n",
    "    fps = 1 / (current_time - prev_time)\n",
    "    prev_time = current_time\n",
    "\n",
    "    # Display FPS on top-left corner of the window\n",
    "    cv2.putText(frame, f'FPS: {int(fps)}', (10, 30), cv2.FONT_HERSHEY_SIMPLEX, 1, (0, 255, 0), 2, cv2.LINE_AA)\n",
    "\n",
    "    cv2.imshow('Gun detection', frame)\n",
    "\n",
    "    if cv2.waitKey(1) & 0xFF == ord('q'):\n",
    "        break\n",
    "\n",
    "cap.release()\n",
    "cv2.destroyAllWindows()"
   ]
  }
 ],
 "metadata": {
  "kernelspec": {
   "display_name": "Python 3",
   "language": "python",
   "name": "python3"
  },
  "language_info": {
   "codemirror_mode": {
    "name": "ipython",
    "version": 3
   },
   "file_extension": ".py",
   "mimetype": "text/x-python",
   "name": "python",
   "nbconvert_exporter": "python",
   "pygments_lexer": "ipython3",
   "version": "3.10.12"
  }
 },
 "nbformat": 4,
 "nbformat_minor": 2
}
