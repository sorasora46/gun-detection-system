{
 "cells": [
  {
   "cell_type": "code",
   "execution_count": null,
   "metadata": {},
   "outputs": [],
   "source": [
    "from ultralytics import YOLO\n",
    "import cv2\n",
    "from ultralytics.utils.plotting import Annotator"
   ]
  },
  {
   "cell_type": "code",
   "execution_count": null,
   "metadata": {},
   "outputs": [],
   "source": [
    "weight = 'C:\\\\Users\\\\sorra\\\\Works\\\\CS3SEM2\\\\ML\\\\system\\\\models\\\\best.pt'\n",
    "\n",
    "model = YOLO(weight)"
   ]
  },
  {
   "cell_type": "code",
   "execution_count": null,
   "metadata": {},
   "outputs": [],
   "source": [
    "cap = cv2.VideoCapture(0)\n",
    "\n",
    "while cap.isOpened():\n",
    "    ret, frame = cap.read()\n",
    "\n",
    "    results = model.predict(frame, conf=0.35, stream=True)\n",
    "\n",
    "    for result in results:\n",
    "\n",
    "        # https://stackoverflow.com/questions/75324341/yolov8-get-predicted-bounding-box\n",
    "        annotator = Annotator(frame)\n",
    "\n",
    "        boxes = result.boxes\n",
    "        conf_arr = boxes.conf.numpy()\n",
    "        conf = 0\n",
    "        for box in boxes:\n",
    "            b = box.xyxy[0]\n",
    "            c = box.cls\n",
    "            \n",
    "            if len(conf_arr) > 0:\n",
    "                conf = conf_arr[0]\n",
    "            annotator.box_label(b, model.names[int(c)]+\" \"+f'{conf:.2f}')\n",
    "    \n",
    "    frame = annotator.result() \n",
    "\n",
    "    cv2.imshow('Gun detection', frame)\n",
    "\n",
    "    if cv2.waitKey(1) & 0xFF == ord('q'):\n",
    "        break\n",
    "\n",
    "cap.release()\n",
    "cv2.destroyAllWindows()"
   ]
  }
 ],
 "metadata": {
  "kernelspec": {
   "display_name": "Python 3",
   "language": "python",
   "name": "python3"
  },
  "language_info": {
   "codemirror_mode": {
    "name": "ipython",
    "version": 3
   },
   "file_extension": ".py",
   "mimetype": "text/x-python",
   "name": "python",
   "nbconvert_exporter": "python",
   "pygments_lexer": "ipython3",
   "version": "3.12.2"
  }
 },
 "nbformat": 4,
 "nbformat_minor": 2
}
